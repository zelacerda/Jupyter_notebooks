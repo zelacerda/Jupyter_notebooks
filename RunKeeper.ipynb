{
 "cells": [
  {
   "cell_type": "markdown",
   "metadata": {},
   "source": [
    "# Importing Runkeeper Data\n",
    "\n",
    "This script imports my training data from Runkeeper API."
   ]
  },
  {
   "cell_type": "markdown",
   "metadata": {},
   "source": [
    "### Step 1 - Loading required libraries"
   ]
  },
  {
   "cell_type": "code",
   "execution_count": 336,
   "metadata": {
    "collapsed": false
   },
   "outputs": [],
   "source": [
    "import datetime, json, urllib2\n",
    "\n",
    "import numpy as np\n",
    "import pandas as pd\n",
    "\n",
    "from pandas import Series, DataFrame"
   ]
  },
  {
   "cell_type": "markdown",
   "metadata": {},
   "source": [
    "### Step 2 - Importing data into a Pandas DataFrame"
   ]
  },
  {
   "cell_type": "code",
   "execution_count": 337,
   "metadata": {
    "collapsed": false,
    "scrolled": true
   },
   "outputs": [
    {
     "data": {
      "text/html": [
       "<div>\n",
       "<table border=\"1\" class=\"dataframe\">\n",
       "  <thead>\n",
       "    <tr style=\"text-align: right;\">\n",
       "      <th></th>\n",
       "      <th>duration</th>\n",
       "      <th>start</th>\n",
       "      <th>distance</th>\n",
       "    </tr>\n",
       "  </thead>\n",
       "  <tbody>\n",
       "    <tr>\n",
       "      <th>0</th>\n",
       "      <td>2003</td>\n",
       "      <td>Wed, 6 Jan 2016 17:05:31</td>\n",
       "      <td>6048.640242</td>\n",
       "    </tr>\n",
       "    <tr>\n",
       "      <th>1</th>\n",
       "      <td>908</td>\n",
       "      <td>Mon, 4 Jan 2016 16:34:34</td>\n",
       "      <td>3050.470102</td>\n",
       "    </tr>\n",
       "    <tr>\n",
       "      <th>2</th>\n",
       "      <td>1681</td>\n",
       "      <td>Sun, 3 Jan 2016 16:29:20</td>\n",
       "      <td>5023.396811</td>\n",
       "    </tr>\n",
       "    <tr>\n",
       "      <th>3</th>\n",
       "      <td>304</td>\n",
       "      <td>Wed, 30 Dec 2015 09:07:12</td>\n",
       "      <td>1013.794585</td>\n",
       "    </tr>\n",
       "    <tr>\n",
       "      <th>4</th>\n",
       "      <td>1673</td>\n",
       "      <td>Wed, 30 Dec 2015 08:18:22</td>\n",
       "      <td>5023.939766</td>\n",
       "    </tr>\n",
       "  </tbody>\n",
       "</table>\n",
       "</div>"
      ],
      "text/plain": [
       "   duration                      start     distance\n",
       "0      2003   Wed, 6 Jan 2016 17:05:31  6048.640242\n",
       "1       908   Mon, 4 Jan 2016 16:34:34  3050.470102\n",
       "2      1681   Sun, 3 Jan 2016 16:29:20  5023.396811\n",
       "3       304  Wed, 30 Dec 2015 09:07:12  1013.794585\n",
       "4      1673  Wed, 30 Dec 2015 08:18:22  5023.939766"
      ]
     },
     "execution_count": 337,
     "metadata": {},
     "output_type": "execute_result"
    }
   ],
   "source": [
    "url = \"https://api.runkeeper.com/fitnessActivities?pageSize=300&access_token=0006f0cb9cd840d1894b0f5dbcb7c010\"\n",
    "data = urllib2.urlopen(url).read()\n",
    "data = json.loads(data)\n",
    "data = data[\"items\"]\n",
    "\n",
    "df = pd.io.json.json_normalize(data) # The DataFrame containing the training raw data.\n",
    "\n",
    "# Now let's cleaning the table. I just need three information from my exercises: distance, duration and time.\n",
    "\n",
    "df = df[[\"duration\", \"start_time\", \"total_distance\"]]\n",
    "df.columns = [\"duration\", \"start\", \"distance\"]\n",
    "\n",
    "# Let's get a look into the table\n",
    "\n",
    "df.head()"
   ]
  },
  {
   "cell_type": "markdown",
   "metadata": {},
   "source": [
    "### Step 3 - Converting data values"
   ]
  },
  {
   "cell_type": "code",
   "execution_count": 338,
   "metadata": {
    "collapsed": false
   },
   "outputs": [
    {
     "data": {
      "text/html": [
       "<div>\n",
       "<table border=\"1\" class=\"dataframe\">\n",
       "  <thead>\n",
       "    <tr style=\"text-align: right;\">\n",
       "      <th></th>\n",
       "      <th>duration</th>\n",
       "      <th>start</th>\n",
       "      <th>distance</th>\n",
       "    </tr>\n",
       "  </thead>\n",
       "  <tbody>\n",
       "    <tr>\n",
       "      <th>0</th>\n",
       "      <td>00:33:23</td>\n",
       "      <td>2016-01-06 17:05:31</td>\n",
       "      <td>6.048</td>\n",
       "    </tr>\n",
       "    <tr>\n",
       "      <th>1</th>\n",
       "      <td>00:15:08</td>\n",
       "      <td>2016-01-04 16:34:34</td>\n",
       "      <td>3.050</td>\n",
       "    </tr>\n",
       "    <tr>\n",
       "      <th>2</th>\n",
       "      <td>00:28:01</td>\n",
       "      <td>2016-01-03 16:29:20</td>\n",
       "      <td>5.023</td>\n",
       "    </tr>\n",
       "    <tr>\n",
       "      <th>3</th>\n",
       "      <td>00:05:04</td>\n",
       "      <td>2015-12-30 09:07:12</td>\n",
       "      <td>1.013</td>\n",
       "    </tr>\n",
       "    <tr>\n",
       "      <th>4</th>\n",
       "      <td>00:27:53</td>\n",
       "      <td>2015-12-30 08:18:22</td>\n",
       "      <td>5.023</td>\n",
       "    </tr>\n",
       "  </tbody>\n",
       "</table>\n",
       "</div>"
      ],
      "text/plain": [
       "   duration               start  distance\n",
       "0  00:33:23 2016-01-06 17:05:31     6.048\n",
       "1  00:15:08 2016-01-04 16:34:34     3.050\n",
       "2  00:28:01 2016-01-03 16:29:20     5.023\n",
       "3  00:05:04 2015-12-30 09:07:12     1.013\n",
       "4  00:27:53 2015-12-30 08:18:22     5.023"
      ]
     },
     "execution_count": 338,
     "metadata": {},
     "output_type": "execute_result"
    }
   ],
   "source": [
    "# Converting start date string to datetime format \n",
    "def to_datetime(string):\n",
    "    return datetime.datetime.strptime(string, \"%a, %d %b %Y %X\")\n",
    "\n",
    "df.start = df.start.apply(to_datetime)\n",
    "\n",
    "\n",
    "# Now converting duration string to timedelta format\n",
    "def to_timedelta(num):\n",
    "    return pd.Timedelta(str(num) + \"seconds\")\n",
    "\n",
    "df.duration = df.duration.apply(to_timedelta)\n",
    "\n",
    "\n",
    "# And finnaly, let's round distance to meters and convert it to Km\n",
    "def to_km(num):\n",
    "    return int(num) / 1000.0\n",
    "\n",
    "df.distance = df.distance.apply(to_km)\n",
    "\n",
    "# Let's look again:\n",
    "\n",
    "df.head()\n",
    "\n",
    "# Seems better now :)"
   ]
  }
 ],
 "metadata": {
  "kernelspec": {
   "display_name": "Python 2",
   "language": "python",
   "name": "python2"
  },
  "language_info": {
   "codemirror_mode": {
    "name": "ipython",
    "version": 2
   },
   "file_extension": ".py",
   "mimetype": "text/x-python",
   "name": "python",
   "nbconvert_exporter": "python",
   "pygments_lexer": "ipython2",
   "version": "2.7.11"
  }
 },
 "nbformat": 4,
 "nbformat_minor": 0
}
